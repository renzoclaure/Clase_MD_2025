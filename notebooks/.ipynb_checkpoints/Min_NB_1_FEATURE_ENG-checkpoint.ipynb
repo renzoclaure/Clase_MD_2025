{
 "cells": [
  {
   "cell_type": "markdown",
   "metadata": {},
   "source": [
    "# Maestría en Ciencia de Datos e Inteligencia Artificial\n",
    "## Módulo: 09: Minería de Datos\n",
    "### 2025\n",
    "\n",
    "### *Msc Renzo Claure*\n",
    "---"
   ]
  },
  {
   "cell_type": "markdown",
   "metadata": {},
   "source": [
    "# Feature Engenieering\n",
    "\n",
    "El Feature Engineering es un paso crucial en la minería de datos y el aprendizaje automático. Se trata de transformar los datos brutos en características (features) que representen mejor el problema subyacente para los modelos predictivos y descriptivos. "
   ]
  },
  {
   "cell_type": "markdown",
   "metadata": {},
   "source": [
    "### Principales tareas\n",
    "1. Limpieza de Datos (Data Cleaning):\n",
    "2. Transformación de Datos (Data Transformation):\n",
    "3. Codificación de Variables Categóricas (Categorical Encoding):\n",
    "4. Creación de Nuevas Características (Feature Creation/Generation):\n",
    "5. Selección de Características (Feature Selection):"
   ]
  },
  {
   "cell_type": "markdown",
   "metadata": {},
   "source": [
    "### Recoleccion de Datos\n",
    "#### Importar datos desde la WEB"
   ]
  },
  {
   "cell_type": "code",
   "execution_count": null,
   "metadata": {},
   "outputs": [],
   "source": [
    "import os"
   ]
  },
  {
   "cell_type": "code",
   "execution_count": null,
   "metadata": {},
   "outputs": [],
   "source": [
    "os.getcwd()"
   ]
  },
  {
   "cell_type": "code",
   "execution_count": null,
   "metadata": {},
   "outputs": [],
   "source": [
    "import pandas as pd\n",
    "import numpy as np"
   ]
  },
  {
   "cell_type": "code",
   "execution_count": null,
   "metadata": {},
   "outputs": [],
   "source": [
    "#os.chdir(\"C:\\Nueva Carpeta\") # para cambiar un directorio"
   ]
  },
  {
   "cell_type": "markdown",
   "metadata": {},
   "source": [
    "Varias de las bases obtenidas para el curso provienen de:\n",
    "https://archive.ics.uci.edu/, el cual es un repositorio libre"
   ]
  },
  {
   "cell_type": "code",
   "execution_count": null,
   "metadata": {},
   "outputs": [],
   "source": [
    "# Importaremos el set de datos Autos de la siguiente dirección: "
   ]
  },
  {
   "cell_type": "markdown",
   "metadata": {},
   "source": [
    "<ul>\n",
    "    <li><a href=\"https://archive.ics.uci.edu/ml/machine-learning-databases/autos/imports-85.data?utm_medium=Exinfluencer&utm_source=Exinfluencer&utm_content=000026UJ&utm_term=10006555&utm_id=NA-SkillsNetwork-Channel-SkillsNetworkCoursesIBMDeveloperSkillsNetworkDA0101ENSkillsNetwork20235326-2021-01-01\" target=\"_blank\">https://archive.ics.uci.edu/ml/machine-learning-databases/autos/imports-85.data</a></li>\n",
    "    \n",
    "</ul>"
   ]
  },
  {
   "cell_type": "code",
   "execution_count": null,
   "metadata": {},
   "outputs": [],
   "source": [
    "url = 'https://archive.ics.uci.edu/ml/machine-learning-databases/autos/imports-85.data'\n",
    "base = pd.read_csv(url)"
   ]
  },
  {
   "cell_type": "code",
   "execution_count": null,
   "metadata": {},
   "outputs": [],
   "source": [
    "#Verificar dimensiones y carag de datos\n",
    "print('El set contiene ', base.shape[0], 'filas y ', base.shape[1], 'columnas')"
   ]
  },
  {
   "cell_type": "code",
   "execution_count": null,
   "metadata": {},
   "outputs": [],
   "source": [
    "#Verificar los primeros registros\n",
    "base.head()"
   ]
  },
  {
   "cell_type": "markdown",
   "metadata": {},
   "source": [
    "Revisión de la carga de datos"
   ]
  },
  {
   "cell_type": "code",
   "execution_count": null,
   "metadata": {},
   "outputs": [],
   "source": [
    "base = pd.read_csv(url, header=None)\n",
    "base.head(3)"
   ]
  },
  {
   "cell_type": "markdown",
   "metadata": {},
   "source": [
    "#### Botton"
   ]
  },
  {
   "cell_type": "code",
   "execution_count": null,
   "metadata": {},
   "outputs": [],
   "source": [
    "base.tail(2)"
   ]
  },
  {
   "cell_type": "markdown",
   "metadata": {},
   "source": [
    "#### Encabezados"
   ]
  },
  {
   "cell_type": "code",
   "execution_count": null,
   "metadata": {},
   "outputs": [],
   "source": [
    "encabezados = [\"symboling\",\"normalized-losses\",\"make\",\"fuel-type\",\"aspiration\", \"num-of-doors\",\"body-style\",\n",
    "         \"drive-wheels\",\"engine-location\",\"wheel-base\", \"length\",\"width\",\"height\",\"curb-weight\",\"engine-type\",\n",
    "         \"num-of-cylinders\", \"engine-size\",\"fuel-system\",\"bore\",\"stroke\",\"compression-ratio\",\"horsepower\",\n",
    "         \"peak-rpm\",\"city-mpg\",\"highway-mpg\",\"price\"]"
   ]
  },
  {
   "cell_type": "markdown",
   "metadata": {},
   "source": [
    "Info del set de datos a tratar  \n",
    "Variables Principales:  \n",
    "\n",
    "- symboling: Esta variable representa el nivel de riesgo del automóvil.  \n",
    "- normalized-losses: Pérdidas normalizadas en uso por año relativo al tamaño del automóvil.  \n",
    "- make: La marca del automóvil (por ejemplo, \"Toyota\", \"BMW\", \"Honda\").  \n",
    "- fuel-type: El tipo de combustible que utiliza el automóvil (por ejemplo, \"gas\", \"diesel\").  \n",
    "- aspiration: El método de aspiración del motor (por ejemplo, \"std\" para estándar, \"turbo\" para turbo).  \n",
    "- num-of-doors: El número de puertas del automóvil (por ejemplo, \"dos\", \"cuatro\").  \n",
    "- body-style: El estilo de carrocería del automóvil (por ejemplo, \"sedán\", \"hatchback\", \"convertible\").  \n",
    "- drive-wheels: Las ruedas motrices del automóvil (por ejemplo, \"rwd\" para tracción trasera, \"fwd\" para tracción  delantera, \"4wd\" para tracción en las cuatro ruedas).  \n",
    "- engine-location: La ubicación del motor del automóvil (por ejemplo, \"delantero\", \"trasero\").  \n",
    "- wheel-base: La distancia entre los ejes delantero y trasero del automóvil.  \n",
    "- length: La longitud del automóvil.  \n",
    "- width: El ancho del automóvil.  \n",
    "- height: La altura del automóvil.  \n",
    "- curb-weight: El peso del automóvil sin pasajeros ni carga.  \n",
    "- engine-type: El tipo de motor del automóvil (por ejemplo, \"dohc\", \"ohcv\").  \n",
    "- num-of-cylinders: El número de cilindros del motor del automóvil.  \n",
    "- engine-size: El tamaño del motor del automóvil.  \n",
    "- fuel-system: El sistema de combustible del automóvil (por ejemplo, \"mpfi\", \"2bbl\").  \n",
    "- bore: El diámetro del cilindro del motor.  \n",
    "- stroke: La carrera del pistón del motor.  \n",
    "- compression-ratio: La relación de compresión del motor.  \n",
    "- horsepower: La potencia del motor del automóvil.  \n",
    "- peak-rpm: Las revoluciones por minuto máximas del motor.  \n",
    "- city-mpg: El consumo de combustible del automóvil en ciudad (millas por galón).  \n",
    "- highway-mpg: El consumo de combustible del automóvil en carretera (millas por galón).  \n",
    "- price: El precio del automóvil.  "
   ]
  },
  {
   "cell_type": "code",
   "execution_count": null,
   "metadata": {},
   "outputs": [],
   "source": [
    "base.columns = encabezados\n",
    "base.head()"
   ]
  },
  {
   "cell_type": "markdown",
   "metadata": {},
   "source": [
    "#### Revisar la forma o dimension del DF"
   ]
  },
  {
   "cell_type": "code",
   "execution_count": null,
   "metadata": {},
   "outputs": [],
   "source": [
    "base.shape"
   ]
  },
  {
   "cell_type": "code",
   "execution_count": null,
   "metadata": {},
   "outputs": [],
   "source": [
    "base.shape[1]"
   ]
  },
  {
   "cell_type": "code",
   "execution_count": null,
   "metadata": {},
   "outputs": [],
   "source": [
    "base.columns"
   ]
  },
  {
   "cell_type": "code",
   "execution_count": null,
   "metadata": {},
   "outputs": [],
   "source": [
    "base.info()\n",
    "#¿Qué tipo de datos contiene el set de datos?\n",
    "#¿Hay datos faltantes?\n",
    "#¿Por qué hay datos que aparentemente están como texto siendo numeros?"
   ]
  },
  {
   "cell_type": "markdown",
   "metadata": {},
   "source": [
    "#### Grabar un DF"
   ]
  },
  {
   "cell_type": "code",
   "execution_count": null,
   "metadata": {},
   "outputs": [],
   "source": [
    "base_2 = base.to_csv('base2.csv', index=False)"
   ]
  },
  {
   "cell_type": "markdown",
   "metadata": {},
   "source": [
    "#### Tipos de datos y Descripción"
   ]
  },
  {
   "cell_type": "code",
   "execution_count": null,
   "metadata": {},
   "outputs": [],
   "source": [
    "base.dtypes"
   ]
  },
  {
   "cell_type": "markdown",
   "metadata": {},
   "source": [
    "#### **1. Limpieza de datos**"
   ]
  },
  {
   "cell_type": "code",
   "execution_count": null,
   "metadata": {},
   "outputs": [],
   "source": [
    "import matplotlib.pylab as plb"
   ]
  },
  {
   "cell_type": "markdown",
   "metadata": {},
   "source": [
    "#### *Identificar Datos perdidos*"
   ]
  },
  {
   "cell_type": "markdown",
   "metadata": {},
   "source": [
    "<div>En Pandas los nullos se conocen como : \"null\"</div> \n",
    "<div>En numpy los nullos son: \"nan\" </div> "
   ]
  },
  {
   "cell_type": "code",
   "execution_count": null,
   "metadata": {},
   "outputs": [],
   "source": [
    "base.isnull()"
   ]
  },
  {
   "cell_type": "code",
   "execution_count": null,
   "metadata": {},
   "outputs": [],
   "source": [
    "base.isnull().sum()"
   ]
  },
  {
   "cell_type": "code",
   "execution_count": null,
   "metadata": {},
   "outputs": [],
   "source": [
    "#Realizando el cambio de ? por nulos np\n",
    "base.replace('?', np.nan).head()"
   ]
  },
  {
   "cell_type": "code",
   "execution_count": null,
   "metadata": {},
   "outputs": [],
   "source": [
    "#Realizando el cambio de ? por nulos np, pero reemplazandolos definitivamente en la base de datos\n",
    "base.replace('?', np.nan, inplace=True)"
   ]
  },
  {
   "cell_type": "code",
   "execution_count": null,
   "metadata": {},
   "outputs": [],
   "source": [
    "base = base.replace('?', np.nan) #Es una mejor práctica"
   ]
  },
  {
   "cell_type": "code",
   "execution_count": null,
   "metadata": {},
   "outputs": [],
   "source": [
    "base.isnull().sum()"
   ]
  },
  {
   "cell_type": "code",
   "execution_count": null,
   "metadata": {},
   "outputs": [],
   "source": [
    "base[base[['normalized-losses']].isnull().values.any(axis=1)]"
   ]
  },
  {
   "cell_type": "code",
   "execution_count": null,
   "metadata": {},
   "outputs": [],
   "source": [
    "base[base['price'].isnull()]"
   ]
  },
  {
   "cell_type": "code",
   "execution_count": null,
   "metadata": {},
   "outputs": [],
   "source": [
    "base[base.isnull().any(axis=1)]"
   ]
  },
  {
   "cell_type": "code",
   "execution_count": null,
   "metadata": {},
   "outputs": [],
   "source": [
    "base.info()"
   ]
  },
  {
   "cell_type": "code",
   "execution_count": null,
   "metadata": {},
   "outputs": [],
   "source": [
    "#Otra froma de ver nulos\n",
    "for column in base.isnull().columns.values.tolist():\n",
    "    print(column)\n",
    "    print (base.isnull()[column].value_counts())\n",
    "    print('...')"
   ]
  },
  {
   "cell_type": "markdown",
   "metadata": {},
   "source": [
    "### *Eliminar Datos perdidos*"
   ]
  },
  {
   "cell_type": "code",
   "execution_count": null,
   "metadata": {},
   "outputs": [],
   "source": [
    "base.shape"
   ]
  },
  {
   "cell_type": "code",
   "execution_count": null,
   "metadata": {},
   "outputs": [],
   "source": [
    "#Eliminar los registros\n",
    "base.dropna().shape #por defecto asume axis=0"
   ]
  },
  {
   "cell_type": "code",
   "execution_count": null,
   "metadata": {},
   "outputs": [],
   "source": [
    "#Especificar de forma explicita el eje\n",
    "base.dropna(axis=1).shape"
   ]
  },
  {
   "cell_type": "code",
   "execution_count": null,
   "metadata": {},
   "outputs": [],
   "source": [
    "base.dropna(subset=['normalized-losses']).shape"
   ]
  },
  {
   "cell_type": "markdown",
   "metadata": {},
   "source": [
    "#### *Transformar datos perdidos*\n",
    "#### *Variables cuantitativas*"
   ]
  },
  {
   "cell_type": "code",
   "execution_count": null,
   "metadata": {},
   "outputs": [],
   "source": [
    "base.head()"
   ]
  },
  {
   "cell_type": "code",
   "execution_count": null,
   "metadata": {},
   "outputs": [],
   "source": [
    "# Reemplazar por un valor fijo\n",
    "base['normalized-losses'].fillna(160).head()"
   ]
  },
  {
   "cell_type": "code",
   "execution_count": null,
   "metadata": {
    "scrolled": true
   },
   "outputs": [],
   "source": [
    "base['price'].iloc[42:50]"
   ]
  },
  {
   "cell_type": "code",
   "execution_count": null,
   "metadata": {},
   "outputs": [],
   "source": [
    "#Colocar el un valor válido mas próximo\n",
    "base['price'].iloc[42:50].fillna(method ='ffill')  #bfill para colocar el primer valor válido"
   ]
  },
  {
   "cell_type": "code",
   "execution_count": null,
   "metadata": {},
   "outputs": [],
   "source": [
    "#Nueva forma de rellenar, fillna sera deprecado\n",
    "base['price'].iloc[42:50].ffill()"
   ]
  },
  {
   "cell_type": "code",
   "execution_count": null,
   "metadata": {},
   "outputs": [],
   "source": [
    "#Colocar el un valor válido mas reciente\n",
    "base['price'].iloc[40:48].fillna(method ='bfill')"
   ]
  },
  {
   "cell_type": "code",
   "execution_count": null,
   "metadata": {},
   "outputs": [],
   "source": [
    "base['price'].iloc[43:48].bfill()"
   ]
  },
  {
   "cell_type": "code",
   "execution_count": null,
   "metadata": {},
   "outputs": [],
   "source": [
    "base['price'].dtype"
   ]
  },
  {
   "cell_type": "code",
   "execution_count": null,
   "metadata": {},
   "outputs": [],
   "source": [
    "#Reemplazar por la media o mediana\n",
    "base['price'] = base['price'].astype('float')"
   ]
  },
  {
   "cell_type": "code",
   "execution_count": null,
   "metadata": {},
   "outputs": [],
   "source": [
    "base[\"price\"].iloc[43:48]"
   ]
  },
  {
   "cell_type": "code",
   "execution_count": null,
   "metadata": {},
   "outputs": [],
   "source": [
    "base[\"price\"].iloc[43:48].replace(np.nan, base['price'].mean()) #Media, se debe convertir a flotante"
   ]
  },
  {
   "cell_type": "code",
   "execution_count": null,
   "metadata": {},
   "outputs": [],
   "source": [
    "base[\"price\"].iloc[43:48].replace(np.nan, base['price'].astype('float').median()) #Mediana"
   ]
  },
  {
   "cell_type": "code",
   "execution_count": null,
   "metadata": {},
   "outputs": [],
   "source": [
    "base[\"price\"].replace(np.nan, base['price'].mean(), inplace=True) #Sustituir en la base de datos"
   ]
  },
  {
   "cell_type": "code",
   "execution_count": null,
   "metadata": {},
   "outputs": [],
   "source": [
    "# Otra forma, más correcta\n",
    "base['price'] = base[\"price\"].replace(np.nan, base['price'].astype('float').mean())"
   ]
  },
  {
   "cell_type": "code",
   "execution_count": null,
   "metadata": {},
   "outputs": [],
   "source": [
    "base[\"price\"].iloc[43:48]"
   ]
  },
  {
   "cell_type": "code",
   "execution_count": null,
   "metadata": {},
   "outputs": [],
   "source": [
    "prom_price = base['price'].astype('float').mean(axis=0)\n",
    "print(\"promedio price:\", prom_price)\n",
    "#base[\"price\"].replace(np.nan, prom_price, inplace=True)"
   ]
  },
  {
   "cell_type": "markdown",
   "metadata": {},
   "source": [
    "#### *Variables Categgoricas*"
   ]
  },
  {
   "cell_type": "code",
   "execution_count": null,
   "metadata": {},
   "outputs": [],
   "source": [
    "base['num-of-doors'].isnull().sum()"
   ]
  },
  {
   "cell_type": "code",
   "execution_count": null,
   "metadata": {},
   "outputs": [],
   "source": [
    "# Reemplazar por el valor más frecuente\n",
    "# Para ver las frecuencias de forma simple:\n",
    "base['num-of-doors'].value_counts()"
   ]
  },
  {
   "cell_type": "code",
   "execution_count": null,
   "metadata": {},
   "outputs": [],
   "source": [
    "#Extraer la moda\n",
    "moda = base['num-of-doors'].mode().values[0]"
   ]
  },
  {
   "cell_type": "code",
   "execution_count": null,
   "metadata": {},
   "outputs": [],
   "source": [
    "base['num-of-doors'].replace(np.nan, moda, inplace=True)\n",
    "base['num-of-doors'].isnull().sum()"
   ]
  },
  {
   "cell_type": "markdown",
   "metadata": {},
   "source": [
    "##### **Ejercicio**\n",
    "*Corrija las variables cuantitaivas que estan como string o como object y utilice la media para sustituir los varlores perdidos de las variables cuantittativas.*"
   ]
  },
  {
   "cell_type": "code",
   "execution_count": null,
   "metadata": {},
   "outputs": [],
   "source": [
    "base.info()"
   ]
  },
  {
   "cell_type": "code",
   "execution_count": null,
   "metadata": {},
   "outputs": [],
   "source": [
    "#base.select_dtypes(include=['number']).columns"
   ]
  },
  {
   "cell_type": "code",
   "execution_count": null,
   "metadata": {},
   "outputs": [],
   "source": [
    "base.select_dtypes(include=['number']).columns"
   ]
  },
  {
   "cell_type": "code",
   "execution_count": null,
   "metadata": {},
   "outputs": [],
   "source": []
  }
 ],
 "metadata": {
  "kernelspec": {
   "display_name": "Python 3 (ipykernel)",
   "language": "python",
   "name": "python3"
  },
  "language_info": {
   "codemirror_mode": {
    "name": "ipython",
    "version": 3
   },
   "file_extension": ".py",
   "mimetype": "text/x-python",
   "name": "python",
   "nbconvert_exporter": "python",
   "pygments_lexer": "ipython3",
   "version": "3.10.16"
  }
 },
 "nbformat": 4,
 "nbformat_minor": 4
}
