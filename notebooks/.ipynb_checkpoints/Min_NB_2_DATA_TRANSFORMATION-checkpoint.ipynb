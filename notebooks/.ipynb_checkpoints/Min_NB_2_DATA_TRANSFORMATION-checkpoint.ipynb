{
 "cells": [
  {
   "cell_type": "markdown",
   "metadata": {},
   "source": [
    "# Maestría en Ciencia de Datos e Inteligencia Artificial\n",
    "## Módulo: 09: Minería de Datos\n",
    "### 2025\n",
    "\n",
    "### *Msc Renzo Claure*\n",
    "---"
   ]
  },
  {
   "cell_type": "markdown",
   "metadata": {},
   "source": [
    "### 2. Transformacion de variables"
   ]
  },
  {
   "cell_type": "markdown",
   "metadata": {},
   "source": [
    "Info del set de datos a tratar  \n",
    "Variables Principales:  \n",
    "\n",
    "- symboling: Esta variable representa el nivel de riesgo del automóvil.  \n",
    "- normalized-losses: Pérdidas normalizadas en uso por año relativo al tamaño del automóvil.  \n",
    "- make: La marca del automóvil (por ejemplo, \"Toyota\", \"BMW\", \"Honda\").  \n",
    "- fuel-type: El tipo de combustible que utiliza el automóvil (por ejemplo, \"gas\", \"diesel\").  \n",
    "- aspiration: El método de aspiración del motor (por ejemplo, \"std\" para estándar, \"turbo\" para turbo).  \n",
    "- num-of-doors: El número de puertas del automóvil (por ejemplo, \"dos\", \"cuatro\").  \n",
    "- body-style: El estilo de carrocería del automóvil (por ejemplo, \"sedán\", \"hatchback\", \"convertible\").  \n",
    "- drive-wheels: Las ruedas motrices del automóvil (por ejemplo, \"rwd\" para tracción trasera, \"fwd\" para tracción  delantera, \"4wd\" para tracción en las cuatro ruedas).  \n",
    "- engine-location: La ubicación del motor del automóvil (por ejemplo, \"delantero\", \"trasero\").  \n",
    "- wheel-base: La distancia entre los ejes delantero y trasero del automóvil.  \n",
    "- length: La longitud del automóvil.  \n",
    "- width: El ancho del automóvil.  \n",
    "- height: La altura del automóvil.  \n",
    "- curb-weight: El peso del automóvil sin pasajeros ni carga.  \n",
    "- engine-type: El tipo de motor del automóvil (por ejemplo, \"dohc\", \"ohcv\").  \n",
    "- num-of-cylinders: El número de cilindros del motor del automóvil.  \n",
    "- engine-size: El tamaño del motor del automóvil.  \n",
    "- fuel-system: El sistema de combustible del automóvil (por ejemplo, \"mpfi\", \"2bbl\").  \n",
    "- bore: El diámetro del cilindro del motor.  \n",
    "- stroke: La carrera del pistón del motor.  \n",
    "- compression-ratio: La relación de compresión del motor.  \n",
    "- horsepower: La potencia del motor del automóvil.  \n",
    "- peak-rpm: Las revoluciones por minuto máximas del motor.  \n",
    "- city-mpg: El consumo de combustible del automóvil en ciudad (millas por galón).  \n",
    "- highway-mpg: El consumo de combustible del automóvil en carretera (millas por galón).  \n",
    "- price: El precio del automóvil.  "
   ]
  },
  {
   "cell_type": "code",
   "execution_count": null,
   "metadata": {},
   "outputs": [],
   "source": [
    "import pandas as pd\n",
    "import numpy as np\n",
    "import matplotlib.pyplot as plt\n",
    "import seaborn as sns"
   ]
  },
  {
   "cell_type": "code",
   "execution_count": null,
   "metadata": {},
   "outputs": [],
   "source": [
    "import os\n",
    "os.getcwd()"
   ]
  },
  {
   "cell_type": "code",
   "execution_count": null,
   "metadata": {},
   "outputs": [],
   "source": [
    "url = 'https://archive.ics.uci.edu/ml/machine-learning-databases/autos/imports-85.data'\n",
    "base = pd.read_csv(url)"
   ]
  },
  {
   "cell_type": "code",
   "execution_count": null,
   "metadata": {},
   "outputs": [],
   "source": [
    "encabezados = [\"symboling\",\"normalized-losses\",\"make\",\"fuel-type\",\"aspiration\", \"num-of-doors\",\"body-style\",\n",
    "         \"drive-wheels\",\"engine-location\",\"wheel-base\", \"length\",\"width\",\"height\",\"curb-weight\",\"engine-type\",\n",
    "         \"num-of-cylinders\", \"engine-size\",\"fuel-system\",\"bore\",\"stroke\",\"compression-ratio\",\"horsepower\",\n",
    "         \"peak-rpm\",\"city-mpg\",\"highway-mpg\",\"price\"]\n",
    "base.columns = encabezados"
   ]
  },
  {
   "cell_type": "code",
   "execution_count": null,
   "metadata": {},
   "outputs": [],
   "source": [
    "base.replace(\"?\", np.nan, inplace = True)"
   ]
  },
  {
   "cell_type": "code",
   "execution_count": null,
   "metadata": {},
   "outputs": [],
   "source": [
    "cols = ['symboling',  'normalized-losses',  'wheel-base',\n",
    " 'length',  'width', 'height', 'curb-weight', 'engine-size', 'bore',\n",
    " 'stroke', 'compression-ratio', 'horsepower', 'peak-rpm',\n",
    " 'city-mpg', 'highway-mpg', 'price']\n",
    "\n",
    "for i in cols:\n",
    "    base[i] = pd.to_numeric(base[i], errors='coerce')\n",
    "    base[i] = base[i].fillna(base[i].mean())"
   ]
  },
  {
   "cell_type": "code",
   "execution_count": null,
   "metadata": {},
   "outputs": [],
   "source": [
    "cols = base.select_dtypes(exclude=['number']).columns.tolist()\n",
    "for i in cols:\n",
    "    mode_value = base[i].mode()[0]\n",
    "    base[i] = base[i].fillna(mode_value)\n",
    "    base[i] = base[i].astype(type(mode_value))"
   ]
  },
  {
   "cell_type": "code",
   "execution_count": null,
   "metadata": {},
   "outputs": [],
   "source": []
  },
  {
   "cell_type": "markdown",
   "metadata": {},
   "source": [
    "#### *Normalizacion*"
   ]
  },
  {
   "cell_type": "code",
   "execution_count": null,
   "metadata": {},
   "outputs": [],
   "source": [
    "# Normalización por Rango\n",
    "base['length_N_R'] = base['length']/(base['length'].max() - base['length'].min() )"
   ]
  },
  {
   "cell_type": "code",
   "execution_count": null,
   "metadata": {},
   "outputs": [],
   "source": [
    "base['length_N_R'].mean()"
   ]
  },
  {
   "cell_type": "code",
   "execution_count": null,
   "metadata": {},
   "outputs": [],
   "source": [
    "base['length'].mean()"
   ]
  },
  {
   "cell_type": "code",
   "execution_count": null,
   "metadata": {},
   "outputs": [],
   "source": [
    "#Con respecto al minimo MinMaxScaler\n",
    "base['length_N_M'] = (base['length']-base['length'].min())/(base['length'].max() - base['length'].min() )"
   ]
  },
  {
   "cell_type": "code",
   "execution_count": null,
   "metadata": {},
   "outputs": [],
   "source": [
    "base['length_N_M'].mean()"
   ]
  },
  {
   "cell_type": "markdown",
   "metadata": {},
   "source": [
    "#### *Estandarizacion*"
   ]
  },
  {
   "cell_type": "code",
   "execution_count": null,
   "metadata": {},
   "outputs": [],
   "source": [
    "# Normalización por distribución normal, StandradScaler\n",
    "base['length_N_S'] = (base['length']-base['length'].mean()) / base['length'].std()"
   ]
  },
  {
   "cell_type": "code",
   "execution_count": null,
   "metadata": {},
   "outputs": [],
   "source": [
    "base['length_N_S'].mean()"
   ]
  },
  {
   "cell_type": "code",
   "execution_count": null,
   "metadata": {},
   "outputs": [],
   "source": [
    "base['length_N_S'].std()"
   ]
  },
  {
   "cell_type": "code",
   "execution_count": null,
   "metadata": {},
   "outputs": [],
   "source": [
    "def grafico_cajas_comparativo(df):\n",
    "    plt.figure(figsize=(12, 4))\n",
    "    sns.boxplot(data=df, orient='h')\n",
    "    plt.xticks(rotation=90)  # Rotar las etiquetas del eje x para mejor legibilidad\n",
    "    plt.title('Gráfico de Cajas Comparativo de Todas las Variables')\n",
    "    plt.show()"
   ]
  },
  {
   "cell_type": "code",
   "execution_count": null,
   "metadata": {},
   "outputs": [],
   "source": [
    "grafico_cajas_comparativo(base[['length', 'length_N_R', 'length_N_M', 'length_N_S']])"
   ]
  },
  {
   "cell_type": "code",
   "execution_count": null,
   "metadata": {},
   "outputs": [],
   "source": [
    "# En procedimientos de ML es mas conveniente usar MinMaxScaler y StandardScaler, ya que se pueden reutilizar sus parametros\n",
    "from sklearn.preprocessing import MinMaxScaler, StandardScaler, RobustScaler, Normalizer, QuantileTransformer, PowerTransformer\n",
    "\n",
    "scaler = MinMaxScaler()\n",
    "scaler.fit(base[['length']])\n",
    "base['length_N_R3'] = scaler.transform(base[['length']])"
   ]
  },
  {
   "cell_type": "markdown",
   "metadata": {},
   "source": [
    "**Ejercicio**  \n",
    "**Normalice por RANGO la variable width y precio, (creelas como nuevas variables), compruebe la media y la desv. estandard**"
   ]
  },
  {
   "cell_type": "markdown",
   "metadata": {},
   "source": [
    "#### *Canonizacion, convertir una variable en booleana*"
   ]
  },
  {
   "cell_type": "code",
   "execution_count": null,
   "metadata": {},
   "outputs": [],
   "source": [
    "base['num-of-doors'].value_counts()"
   ]
  },
  {
   "cell_type": "code",
   "execution_count": null,
   "metadata": {},
   "outputs": [],
   "source": [
    "base['num-of-doors_B'] = base['num-of-doors'].map({'four': True, 'two': False}) "
   ]
  },
  {
   "cell_type": "code",
   "execution_count": null,
   "metadata": {},
   "outputs": [],
   "source": [
    "base[['num-of-doors', 'num-of-doors_B']].head(5)"
   ]
  },
  {
   "cell_type": "code",
   "execution_count": null,
   "metadata": {},
   "outputs": [],
   "source": [
    "base['num-of-doors_B2'] = np.where(base['num-of-doors']=='four', 1, 0)"
   ]
  },
  {
   "cell_type": "code",
   "execution_count": null,
   "metadata": {},
   "outputs": [],
   "source": [
    "base[['num-of-doors', 'num-of-doors_B2']]"
   ]
  },
  {
   "cell_type": "markdown",
   "metadata": {},
   "source": [
    "#### *BInning o conversion de númerico a categórico*"
   ]
  },
  {
   "cell_type": "code",
   "execution_count": null,
   "metadata": {},
   "outputs": [],
   "source": [
    "base.dtypes"
   ]
  },
  {
   "cell_type": "code",
   "execution_count": null,
   "metadata": {},
   "outputs": [],
   "source": [
    "base['horsepower'] = base['horsepower'].astype(int, copy=True)"
   ]
  },
  {
   "cell_type": "code",
   "execution_count": null,
   "metadata": {},
   "outputs": [],
   "source": [
    "%matplotlib inline\n",
    "import matplotlib.pyplot as plt\n",
    "plt.plot()\n",
    "plt.hist(base[\"horsepower\"])\n",
    "plt.xlabel(\"horsepower\")\n",
    "plt.ylabel(\"cantidad\")\n",
    "plt.title(\"horsepower bins\")"
   ]
  },
  {
   "cell_type": "code",
   "execution_count": null,
   "metadata": {},
   "outputs": [],
   "source": [
    "bins = np.linspace(min(base[\"horsepower\"]), max(base[\"horsepower\"]), 6)\n",
    "bins"
   ]
  },
  {
   "cell_type": "code",
   "execution_count": null,
   "metadata": {},
   "outputs": [],
   "source": [
    "print(base[\"horsepower\"].min())\n",
    "print(base[\"horsepower\"].max())"
   ]
  },
  {
   "cell_type": "code",
   "execution_count": null,
   "metadata": {
    "scrolled": true
   },
   "outputs": [],
   "source": [
    "nom_grupos = ['muy bajo', 'bajo', 'medio', 'alto', 'muy alto']\n",
    "base['horsepower-binned'] = pd.cut(base['horsepower'], bins, labels=nom_grupos, include_lowest=True )\n",
    "base['horsepower-binned'].value_counts(normalize=True)"
   ]
  },
  {
   "cell_type": "code",
   "execution_count": null,
   "metadata": {},
   "outputs": [],
   "source": [
    "#%matplotlib notebook\n",
    "plt.plot()\n",
    "plt.bar(nom_grupos, base[\"horsepower-binned\"].value_counts(), color='red')\n",
    "plt.xlabel(\"horsepower\")\n",
    "plt.ylabel(\"cantidad\")\n",
    "plt.title(\"horsepower bins\")\n",
    "plt.show()"
   ]
  },
  {
   "cell_type": "code",
   "execution_count": null,
   "metadata": {},
   "outputs": [],
   "source": [
    "%matplotlib inline\n",
    "plt.plot()\n",
    "plt.hist(base['horsepower'], bins=3)\n",
    "plt.xlabel('horsepower')\n",
    "plt.ylabel('cantidad')\n",
    "plt.title('horsepower bins')\n",
    "plt.show()"
   ]
  },
  {
   "cell_type": "markdown",
   "metadata": {},
   "source": [
    "#### *Creacion de variables Dummy (OneHotEncoding)*"
   ]
  },
  {
   "cell_type": "code",
   "execution_count": null,
   "metadata": {},
   "outputs": [],
   "source": [
    "base[\"fuel-type\"].value_counts()"
   ]
  },
  {
   "cell_type": "code",
   "execution_count": null,
   "metadata": {},
   "outputs": [],
   "source": [
    "comb_bdummy = pd.get_dummies(base[\"fuel-type\"])"
   ]
  },
  {
   "cell_type": "code",
   "execution_count": null,
   "metadata": {},
   "outputs": [],
   "source": [
    "comb_bdummy"
   ]
  },
  {
   "cell_type": "code",
   "execution_count": null,
   "metadata": {},
   "outputs": [],
   "source": [
    "base = pd.concat([base, comb_bdummy ], axis=1)"
   ]
  },
  {
   "cell_type": "code",
   "execution_count": null,
   "metadata": {},
   "outputs": [],
   "source": [
    "base[['fuel-type', 'diesel', 'gas'  ]].tail()"
   ]
  },
  {
   "cell_type": "code",
   "execution_count": null,
   "metadata": {},
   "outputs": [],
   "source": [
    "#Con una sola linea\n",
    "pd.get_dummies(base, prefix='dummie', columns=['fuel-type']).head()#.iloc[:,30:]"
   ]
  },
  {
   "cell_type": "code",
   "execution_count": null,
   "metadata": {},
   "outputs": [],
   "source": [
    "#borrar los campos creados con dummie\n",
    "cols = base.columns.tolist()\n",
    "cols = [ palabra for palabra in cols if 'dummie' in palabra ]\n",
    "base.drop(columns=cols, inplace=True)"
   ]
  },
  {
   "cell_type": "code",
   "execution_count": null,
   "metadata": {},
   "outputs": [],
   "source": [
    "from sklearn.preprocessing import OneHotEncoder\n",
    "\n",
    "enc = OneHotEncoder(handle_unknown='ignore')\n",
    "encoded = enc.fit_transform(base[['fuel-type', 'num-of-doors']])\n",
    "nombres = enc.get_feature_names_out(['fuel-type', 'num-of-doors'])\n",
    "df_encoded = pd.DataFrame(encoded.toarray(), columns=nombres)\n",
    "base = pd.concat([base, df_encoded], axis=1)\n",
    "base.head()"
   ]
  },
  {
   "cell_type": "markdown",
   "metadata": {},
   "source": [
    "#### *Label Encoding*"
   ]
  },
  {
   "cell_type": "code",
   "execution_count": null,
   "metadata": {},
   "outputs": [],
   "source": [
    "from sklearn.preprocessing import LabelEncoder\n",
    "\n",
    "enc = LabelEncoder()\n",
    "base['body_encoded'] = enc.fit_transform(base['body-style'])\n",
    "base[['body-style', 'body_encoded']].head()"
   ]
  },
  {
   "cell_type": "code",
   "execution_count": null,
   "metadata": {},
   "outputs": [],
   "source": [
    "base[['body-style', 'body_encoded']].head()"
   ]
  },
  {
   "cell_type": "code",
   "execution_count": null,
   "metadata": {},
   "outputs": [],
   "source": [
    "enc.classes_"
   ]
  },
  {
   "cell_type": "markdown",
   "metadata": {},
   "source": [
    "**Ejercicio**  \n",
    "**Crear una variable dummy a partir de la variable \"drive-wheels\" e introduzcala a la base**  \n",
    "**Transforma la variable fuel-system con Label Encoder**"
   ]
  },
  {
   "cell_type": "code",
   "execution_count": null,
   "metadata": {},
   "outputs": [],
   "source": [
    "pd.crosstab(index='body-style', columns='body_encoded' )"
   ]
  }
 ],
 "metadata": {
  "kernelspec": {
   "display_name": "Python 3 (ipykernel)",
   "language": "python",
   "name": "python3"
  },
  "language_info": {
   "codemirror_mode": {
    "name": "ipython",
    "version": 3
   },
   "file_extension": ".py",
   "mimetype": "text/x-python",
   "name": "python",
   "nbconvert_exporter": "python",
   "pygments_lexer": "ipython3",
   "version": "3.10.16"
  }
 },
 "nbformat": 4,
 "nbformat_minor": 4
}
